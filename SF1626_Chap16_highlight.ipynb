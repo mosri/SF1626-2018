{
 "cells": [
  {
   "cell_type": "markdown",
   "metadata": {},
   "source": [
    "# SF1626 Lecture highlights: Chapter 16\n",
    "by [Richard Tsai](https://www.researchgate.net/profile/Richard_Tsai3)\n",
    "\n",
    "Lecture 1: 16.1, 16.2\n",
    "\n",
    "Lecture 2: 16.3, 16.4\n",
    "\n",
    "Lecture 3: 16.5"
   ]
  },
  {
   "cell_type": "markdown",
   "metadata": {},
   "source": [
    "## Chap 16.1\n",
    "\n",
    "The interpretations of $\\nabla\\cdot \\mathbf{F}$ and $\\nabla\\times \\mathbf{F}$\n",
    "\n",
    "\n",
    "#### Helmholtz-Hodge decomposition of a vector field\n",
    "\n",
    "$\\mathbf{F}$ is a sufficiently smooth and rapid decaying vector field in 3D.\n",
    "\n",
    "$\\mathbf{F}=\\nabla\\phi + \\mathbf{r}$ such that $\\nabla\\cdot\\mathbf{r}=0$ "
   ]
  },
  {
   "cell_type": "markdown",
   "metadata": {},
   "source": [
    "## Green's theorem\n",
    "\n",
    "It is a two dimensional version of the Fundamental Theorem of Calculus.\n",
    "\n",
    "Consider a region, $R$, on the xy-plane in 3D. \n",
    "\n",
    "$$ \\iint_R \\mathrm{curl}~\\mathbf{F}\\cdot \\mathbf{k} dA = \\oint_C \\mathbf{F}\\cdot d\\mathbf{r}$$\n",
    "\n",
    "Or equivalently\n",
    "\n",
    "$$ \\iint_R \\left( \\frac{\\partial F_2}{\\partial x}-\\frac{\\partial F_1}{\\partial y}\\right)dA = \\oint_C F_1(x,y)dx+F_2(x,y)dy$$\n",
    "\n",
    "* This theorem **relates** an area integral (on the left) to its corresponding **line** integral (on the right)\n",
    "\n"
   ]
  },
  {
   "cell_type": "markdown",
   "metadata": {},
   "source": [
    "## The divergence theorem (aka Green's theorem)\n",
    "\n",
    "$D$ is regular. The bound ary $\\Sigma$ isoriented and closed\n",
    "\n",
    "$\\hat{\\mathbf{N}}$ is the normal vector field on $D$, **pointing out** of $D$.\n",
    "\n",
    "$$\\iiint_D \\nabla\\cdot\\mathbf{F} dV = \\iint_\\Sigma \\mathbf{F}\\cdot\\hat{\\mathbf{N}} dS $$"
   ]
  },
  {
   "cell_type": "markdown",
   "metadata": {},
   "source": [
    "## Stoke's theorem\n",
    "\n",
    "Condition on $\\Sigma$\n",
    "\n",
    "$$\\oint_C \\mathbf{F}\\cdot d\\mathbf{r} = \\iint_\\Sigma \\nabla\\times \\mathbf{F}\\cdot \\hat{\\mathbf{N}} dS $$"
   ]
  },
  {
   "cell_type": "code",
   "execution_count": null,
   "metadata": {},
   "outputs": [],
   "source": []
  }
 ],
 "metadata": {
  "kernelspec": {
   "display_name": "Julia 0.7.0",
   "language": "julia",
   "name": "julia-0.7"
  },
  "language_info": {
   "file_extension": ".jl",
   "mimetype": "application/julia",
   "name": "julia",
   "version": "0.7.0"
  }
 },
 "nbformat": 4,
 "nbformat_minor": 2
}
